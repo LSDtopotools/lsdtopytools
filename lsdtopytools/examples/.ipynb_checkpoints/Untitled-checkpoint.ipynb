{
 "cells": [
  {
   "cell_type": "code",
   "execution_count": 2,
   "id": "racial-salad",
   "metadata": {},
   "outputs": [
    {
     "name": "stdout",
     "output_type": "stream",
     "text": [
      "Loading the raster from file: ./dem.tif\n",
      "LOADING TOOK 0.004419088363647461\n",
      "I am recasting your nodata values to -9999 (standard LSDTT)\n",
      "PREPROC TOOK 0.0006248950958251953\n",
      "Alright, let me summon control upon the c++ code ...\n",
      "Got it.\n",
      "INGESTINGINTO CPP TOOK 0.0007920265197753906\n",
      "FINALISATION TOOK 0.0001533031463623047\n",
      "lsdtopytools is now ready to roll!\n",
      "Carving: implementation of Lindsay (2016) DOI: 10.1002/hyp.10648\n",
      "Filling: implementation of Wang and Liu (2006): https://doi.org/10.1080/13658810500433453\n",
      "Processing...\n",
      "DEM ready for flow routines!\n",
      "Processing common flow routines...\n",
      "Done!\n",
      "I have generated ksn for the specified region!\n",
      "Let me just save the result to the hdf5 file to keep track\n"
     ]
    },
    {
     "data": {
      "text/plain": [
       "'generated'"
      ]
     },
     "execution_count": 2,
     "metadata": {},
     "output_type": "execute_result"
    }
   ],
   "source": [
    "\"\"\"\n",
    "This file provide a commented example going through all the range of tools related to chi extraction, ksn, knickpoints and things like that.\n",
    "It will become a rather massive file and aim to give a large overview of what we can do with this tools. For more specific use (e.g., focusing on caoncavity)\n",
    "you can refer to the more specific examples (if it exist yet).\n",
    "Authors: B.G. \n",
    "\"\"\"\n",
    "\n",
    "# The following lines import the module we will use. Any python scripts starts with importing other bits of codes we need\n",
    "from lsdtopytools import LSDDEM # I am telling python I will need this module to run.\n",
    "from lsdtopytools import quickplot, quickplot_ksn_knickpoints, quickplot_movern # from the same tools, I am importing some quick plotting modules\n",
    "# You can add any extra dependencies you need here. For example pandas, numpy or matplotlib.\n",
    "\n",
    "# First step is to load the DEM\n",
    "## The name \"mydem\" can be changed into whatever suits you\n",
    "## Let's have a clean and organised approach and save things into variables\n",
    "path_to_dem = \"./\" # You need to obviously adapt that path to your case\n",
    "dem_name = \"dem.tif\" # You also need to adapt that file name... \n",
    "## Now we can load the dem into LSDTopytools: \n",
    "### already_preprocessed can be turn to True if you are 100% sure that your dem does not need preprocessing before flow routines\n",
    "mydem = LSDDEM(path = path_to_dem, file_name = dem_name, already_preprocessed = False)\n",
    "\n",
    "# Alright the dem is in the system and now needs to be preprocessed (if not done yet)\n",
    "mydem.PreProcessing(filling = True, carving = True, minimum_slope_for_filling = 0.0001) # Unecessary if already preprocessed of course.\n",
    "\n",
    "#Need to pregenerate a number of routines, it calculates flow direction, flow accumulation, drainage area , ...\n",
    "mydem.CommonFlowRoutines()\n",
    "\n",
    "# This define the river network, it is required to actually calculate other metrics\n",
    "mydem.ExtractRiverNetwork( method = \"area_threshold\", area_threshold_min = 50)\n",
    "\n",
    "# Defining catchment of interest: it extracts the catchments by outlet coordinates. You also need to adpat these obviously!!\n",
    "## they need to be in the same coordinate system than the raster.\n",
    "mydem.DefineCatchment( method=\"from_XY\", X_coords = [532297,521028], Y_coords = [6188085,6196305])\n",
    "\n",
    "# Calculates chi coordinate with an according theta\n",
    "mydem.GenerateChi(theta = 0.4, A_0 = 1)\n",
    "\n",
    "# At that stage you can get the basic river characteristics as follow:\n",
    "# my_rivers = mydem.df_base_river\n",
    "# my_rivers.to_csv(\"name_of_my_file_containing_base_river.csv\", index = False) #  This saves the base rivers to csv\n",
    "\n",
    "\n",
    "##############################\n",
    "# Find below the range of specific chi related analysis you can run with lsdtopytools\n",
    "# Note that this script contains a list of analysis as exhaustive as possible, but you do not need to run all of them at the same time !!\n",
    "# It is rather adviced to run them separately when possible\n",
    "##############################\n",
    "\n",
    "\n",
    "######## ksn Extraction\n",
    "# For the catchments previously selected and chi calculated with an appropriate theta/A0\n",
    "# this extract the Normalised channel steepness (if A0=1) or the steepness of chi-z profiles\n",
    "# using https://agupubs.onlinelibrary.wiley.com/doi/full/10.1002/2013JF002981\n",
    "# mydem.GenerateChi(theta = 0.4, A_0 = 1) # this is if you need to generate chi with another concavity\n",
    "mydem.ksn_MuddEtAl2014(target_nodes=70, n_iterations=60, skip=1, nthreads = 1)\n",
    "## Plotting the results (see API for full details)\n"
   ]
  },
  {
   "cell_type": "code",
   "execution_count": null,
   "id": "virtual-alliance",
   "metadata": {},
   "outputs": [],
   "source": []
  }
 ],
 "metadata": {
  "kernelspec": {
   "display_name": "Python 3",
   "language": "python",
   "name": "python3"
  },
  "language_info": {
   "codemirror_mode": {
    "name": "ipython",
    "version": 3
   },
   "file_extension": ".py",
   "mimetype": "text/x-python",
   "name": "python",
   "nbconvert_exporter": "python",
   "pygments_lexer": "ipython3",
   "version": "3.7.9"
  }
 },
 "nbformat": 4,
 "nbformat_minor": 5
}
